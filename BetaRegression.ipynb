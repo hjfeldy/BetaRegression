{
 "metadata": {
  "language_info": {
   "codemirror_mode": {
    "name": "ipython",
    "version": 3
   },
   "file_extension": ".py",
   "mimetype": "text/x-python",
   "name": "python",
   "nbconvert_exporter": "python",
   "pygments_lexer": "ipython3",
   "version": "3.8.5-final"
  },
  "orig_nbformat": 2,
  "kernelspec": {
   "name": "python38564bit2aa7d09f634b489ba7b3c6730f4959f2",
   "display_name": "Python 3.8.5 64-bit"
  }
 },
 "nbformat": 4,
 "nbformat_minor": 2,
 "cells": [
  {
   "cell_type": "code",
   "execution_count": 4,
   "metadata": {},
   "outputs": [
    {
     "output_type": "execute_result",
     "data": {
      "text/plain": [
       "          Date       Open       High        Low      Close  Adj Close   Volume\n",
       "0   2020-08-24  20.920000  21.000000  19.129999  20.030001  20.030001  1908300\n",
       "1   2020-08-25  20.020000  20.209999  18.924999  19.549999  19.549999  1388800\n",
       "2   2020-08-26  19.570000  20.160000  19.530001  19.660000  19.660000   829300\n",
       "3   2020-08-27  19.610001  19.840000  19.129999  19.170000  19.170000   736400\n",
       "4   2020-08-28  19.370001  20.049999  19.059999  19.100000  19.100000   681200\n",
       "..         ...        ...        ...        ...        ...        ...      ...\n",
       "59  2020-11-16  26.990000  27.309999  26.000000  27.290001  27.290001  1243800\n",
       "60  2020-11-17  27.219999  29.600000  26.511999  29.350000  29.350000  1558200\n",
       "61  2020-11-18  29.299999  30.500000  29.250000  29.860001  29.860001  1418400\n",
       "62  2020-11-19  29.860001  30.500000  29.100000  30.400000  30.400000   644200\n",
       "63  2020-11-20  30.350000  31.020000  30.209999  30.590000  30.590000   936700\n",
       "\n",
       "[64 rows x 7 columns]"
      ],
      "text/html": "<div>\n<style scoped>\n    .dataframe tbody tr th:only-of-type {\n        vertical-align: middle;\n    }\n\n    .dataframe tbody tr th {\n        vertical-align: top;\n    }\n\n    .dataframe thead th {\n        text-align: right;\n    }\n</style>\n<table border=\"1\" class=\"dataframe\">\n  <thead>\n    <tr style=\"text-align: right;\">\n      <th></th>\n      <th>Date</th>\n      <th>Open</th>\n      <th>High</th>\n      <th>Low</th>\n      <th>Close</th>\n      <th>Adj Close</th>\n      <th>Volume</th>\n    </tr>\n  </thead>\n  <tbody>\n    <tr>\n      <th>0</th>\n      <td>2020-08-24</td>\n      <td>20.920000</td>\n      <td>21.000000</td>\n      <td>19.129999</td>\n      <td>20.030001</td>\n      <td>20.030001</td>\n      <td>1908300</td>\n    </tr>\n    <tr>\n      <th>1</th>\n      <td>2020-08-25</td>\n      <td>20.020000</td>\n      <td>20.209999</td>\n      <td>18.924999</td>\n      <td>19.549999</td>\n      <td>19.549999</td>\n      <td>1388800</td>\n    </tr>\n    <tr>\n      <th>2</th>\n      <td>2020-08-26</td>\n      <td>19.570000</td>\n      <td>20.160000</td>\n      <td>19.530001</td>\n      <td>19.660000</td>\n      <td>19.660000</td>\n      <td>829300</td>\n    </tr>\n    <tr>\n      <th>3</th>\n      <td>2020-08-27</td>\n      <td>19.610001</td>\n      <td>19.840000</td>\n      <td>19.129999</td>\n      <td>19.170000</td>\n      <td>19.170000</td>\n      <td>736400</td>\n    </tr>\n    <tr>\n      <th>4</th>\n      <td>2020-08-28</td>\n      <td>19.370001</td>\n      <td>20.049999</td>\n      <td>19.059999</td>\n      <td>19.100000</td>\n      <td>19.100000</td>\n      <td>681200</td>\n    </tr>\n    <tr>\n      <th>...</th>\n      <td>...</td>\n      <td>...</td>\n      <td>...</td>\n      <td>...</td>\n      <td>...</td>\n      <td>...</td>\n      <td>...</td>\n    </tr>\n    <tr>\n      <th>59</th>\n      <td>2020-11-16</td>\n      <td>26.990000</td>\n      <td>27.309999</td>\n      <td>26.000000</td>\n      <td>27.290001</td>\n      <td>27.290001</td>\n      <td>1243800</td>\n    </tr>\n    <tr>\n      <th>60</th>\n      <td>2020-11-17</td>\n      <td>27.219999</td>\n      <td>29.600000</td>\n      <td>26.511999</td>\n      <td>29.350000</td>\n      <td>29.350000</td>\n      <td>1558200</td>\n    </tr>\n    <tr>\n      <th>61</th>\n      <td>2020-11-18</td>\n      <td>29.299999</td>\n      <td>30.500000</td>\n      <td>29.250000</td>\n      <td>29.860001</td>\n      <td>29.860001</td>\n      <td>1418400</td>\n    </tr>\n    <tr>\n      <th>62</th>\n      <td>2020-11-19</td>\n      <td>29.860001</td>\n      <td>30.500000</td>\n      <td>29.100000</td>\n      <td>30.400000</td>\n      <td>30.400000</td>\n      <td>644200</td>\n    </tr>\n    <tr>\n      <th>63</th>\n      <td>2020-11-20</td>\n      <td>30.350000</td>\n      <td>31.020000</td>\n      <td>30.209999</td>\n      <td>30.590000</td>\n      <td>30.590000</td>\n      <td>936700</td>\n    </tr>\n  </tbody>\n</table>\n<p>64 rows × 7 columns</p>\n</div>"
     },
     "metadata": {},
     "execution_count": 4
    }
   ],
   "source": [
    "import os\n",
    "import pandas as pd\n",
    "\n",
    "#Import PRPL Data\n",
    "prpl = pd.read_csv('https://query1.finance.yahoo.com/v7/finance/download/PRPL?period1=1598054400&period2=1606003200&interval=1d&events=history&includeAdjustedClose=true\"')\n",
    "prpl"
   ]
  },
  {
   "cell_type": "code",
   "execution_count": 2,
   "metadata": {},
   "outputs": [
    {
     "output_type": "execute_result",
     "data": {
      "text/plain": [
       "          Date         Open         High          Low        Close  \\\n",
       "0   2020-08-24  3418.090088  3432.090088  3413.129883  3431.280029   \n",
       "1   2020-08-25  3435.949951  3444.209961  3425.840088  3443.620117   \n",
       "2   2020-08-26  3449.969971  3481.070068  3444.149902  3478.729980   \n",
       "3   2020-08-27  3485.139893  3501.379883  3468.350098  3484.550049   \n",
       "4   2020-08-28  3494.689941  3509.229980  3484.320068  3508.010010   \n",
       "..         ...          ...          ...          ...          ...   \n",
       "59  2020-11-16  3600.159912  3628.510010  3600.159912  3626.909912   \n",
       "60  2020-11-17  3610.310059  3623.110107  3588.679932  3609.530029   \n",
       "61  2020-11-18  3612.090088  3619.090088  3567.330078  3567.790039   \n",
       "62  2020-11-19  3559.409912  3585.219971  3543.840088  3581.870117   \n",
       "63  2020-11-20  3579.310059  3581.229980  3556.850098  3557.540039   \n",
       "\n",
       "      Adj Close      Volume  \n",
       "0   3431.280029  3728690000  \n",
       "1   3443.620117  3619300000  \n",
       "2   3478.729980  3754360000  \n",
       "3   3484.550049  3929560000  \n",
       "4   3508.010010  3855880000  \n",
       "..          ...         ...  \n",
       "59  3626.909912  5281980000  \n",
       "60  3609.530029  4799570000  \n",
       "61  3567.790039  5274450000  \n",
       "62  3581.870117  4347200000  \n",
       "63  3557.540039  4218970000  \n",
       "\n",
       "[64 rows x 7 columns]"
      ],
      "text/html": "<div>\n<style scoped>\n    .dataframe tbody tr th:only-of-type {\n        vertical-align: middle;\n    }\n\n    .dataframe tbody tr th {\n        vertical-align: top;\n    }\n\n    .dataframe thead th {\n        text-align: right;\n    }\n</style>\n<table border=\"1\" class=\"dataframe\">\n  <thead>\n    <tr style=\"text-align: right;\">\n      <th></th>\n      <th>Date</th>\n      <th>Open</th>\n      <th>High</th>\n      <th>Low</th>\n      <th>Close</th>\n      <th>Adj Close</th>\n      <th>Volume</th>\n    </tr>\n  </thead>\n  <tbody>\n    <tr>\n      <th>0</th>\n      <td>2020-08-24</td>\n      <td>3418.090088</td>\n      <td>3432.090088</td>\n      <td>3413.129883</td>\n      <td>3431.280029</td>\n      <td>3431.280029</td>\n      <td>3728690000</td>\n    </tr>\n    <tr>\n      <th>1</th>\n      <td>2020-08-25</td>\n      <td>3435.949951</td>\n      <td>3444.209961</td>\n      <td>3425.840088</td>\n      <td>3443.620117</td>\n      <td>3443.620117</td>\n      <td>3619300000</td>\n    </tr>\n    <tr>\n      <th>2</th>\n      <td>2020-08-26</td>\n      <td>3449.969971</td>\n      <td>3481.070068</td>\n      <td>3444.149902</td>\n      <td>3478.729980</td>\n      <td>3478.729980</td>\n      <td>3754360000</td>\n    </tr>\n    <tr>\n      <th>3</th>\n      <td>2020-08-27</td>\n      <td>3485.139893</td>\n      <td>3501.379883</td>\n      <td>3468.350098</td>\n      <td>3484.550049</td>\n      <td>3484.550049</td>\n      <td>3929560000</td>\n    </tr>\n    <tr>\n      <th>4</th>\n      <td>2020-08-28</td>\n      <td>3494.689941</td>\n      <td>3509.229980</td>\n      <td>3484.320068</td>\n      <td>3508.010010</td>\n      <td>3508.010010</td>\n      <td>3855880000</td>\n    </tr>\n    <tr>\n      <th>...</th>\n      <td>...</td>\n      <td>...</td>\n      <td>...</td>\n      <td>...</td>\n      <td>...</td>\n      <td>...</td>\n      <td>...</td>\n    </tr>\n    <tr>\n      <th>59</th>\n      <td>2020-11-16</td>\n      <td>3600.159912</td>\n      <td>3628.510010</td>\n      <td>3600.159912</td>\n      <td>3626.909912</td>\n      <td>3626.909912</td>\n      <td>5281980000</td>\n    </tr>\n    <tr>\n      <th>60</th>\n      <td>2020-11-17</td>\n      <td>3610.310059</td>\n      <td>3623.110107</td>\n      <td>3588.679932</td>\n      <td>3609.530029</td>\n      <td>3609.530029</td>\n      <td>4799570000</td>\n    </tr>\n    <tr>\n      <th>61</th>\n      <td>2020-11-18</td>\n      <td>3612.090088</td>\n      <td>3619.090088</td>\n      <td>3567.330078</td>\n      <td>3567.790039</td>\n      <td>3567.790039</td>\n      <td>5274450000</td>\n    </tr>\n    <tr>\n      <th>62</th>\n      <td>2020-11-19</td>\n      <td>3559.409912</td>\n      <td>3585.219971</td>\n      <td>3543.840088</td>\n      <td>3581.870117</td>\n      <td>3581.870117</td>\n      <td>4347200000</td>\n    </tr>\n    <tr>\n      <th>63</th>\n      <td>2020-11-20</td>\n      <td>3579.310059</td>\n      <td>3581.229980</td>\n      <td>3556.850098</td>\n      <td>3557.540039</td>\n      <td>3557.540039</td>\n      <td>4218970000</td>\n    </tr>\n  </tbody>\n</table>\n<p>64 rows × 7 columns</p>\n</div>"
     },
     "metadata": {},
     "execution_count": 2
    }
   ],
   "source": [
    "#Import S&P Data\n",
    "spy = pd.read_csv('https://query1.finance.yahoo.com/v7/finance/download/^GSPC?period1=1598054400&period2=1606003200&interval=1d&events=history&includeAdjustedClose=true\"')\n",
    "spy"
   ]
  },
  {
   "cell_type": "code",
   "execution_count": 40,
   "metadata": {},
   "outputs": [
    {
     "output_type": "execute_result",
     "data": {
      "text/plain": [
       "          DATE  TB3MS\n",
       "0   2019-10-01   1.65\n",
       "1   2019-11-01   1.54\n",
       "2   2019-12-01   1.54\n",
       "3   2020-01-01   1.52\n",
       "4   2020-02-01   1.52\n",
       "5   2020-03-01   0.29\n",
       "6   2020-04-01   0.14\n",
       "7   2020-05-01   0.13\n",
       "8   2020-06-01   0.16\n",
       "9   2020-07-01   0.13\n",
       "10  2020-08-01   0.10\n",
       "11  2020-09-01   0.11\n",
       "12  2020-10-01   0.10"
      ],
      "text/html": "<div>\n<style scoped>\n    .dataframe tbody tr th:only-of-type {\n        vertical-align: middle;\n    }\n\n    .dataframe tbody tr th {\n        vertical-align: top;\n    }\n\n    .dataframe thead th {\n        text-align: right;\n    }\n</style>\n<table border=\"1\" class=\"dataframe\">\n  <thead>\n    <tr style=\"text-align: right;\">\n      <th></th>\n      <th>DATE</th>\n      <th>TB3MS</th>\n    </tr>\n  </thead>\n  <tbody>\n    <tr>\n      <th>0</th>\n      <td>2019-10-01</td>\n      <td>1.65</td>\n    </tr>\n    <tr>\n      <th>1</th>\n      <td>2019-11-01</td>\n      <td>1.54</td>\n    </tr>\n    <tr>\n      <th>2</th>\n      <td>2019-12-01</td>\n      <td>1.54</td>\n    </tr>\n    <tr>\n      <th>3</th>\n      <td>2020-01-01</td>\n      <td>1.52</td>\n    </tr>\n    <tr>\n      <th>4</th>\n      <td>2020-02-01</td>\n      <td>1.52</td>\n    </tr>\n    <tr>\n      <th>5</th>\n      <td>2020-03-01</td>\n      <td>0.29</td>\n    </tr>\n    <tr>\n      <th>6</th>\n      <td>2020-04-01</td>\n      <td>0.14</td>\n    </tr>\n    <tr>\n      <th>7</th>\n      <td>2020-05-01</td>\n      <td>0.13</td>\n    </tr>\n    <tr>\n      <th>8</th>\n      <td>2020-06-01</td>\n      <td>0.16</td>\n    </tr>\n    <tr>\n      <th>9</th>\n      <td>2020-07-01</td>\n      <td>0.13</td>\n    </tr>\n    <tr>\n      <th>10</th>\n      <td>2020-08-01</td>\n      <td>0.10</td>\n    </tr>\n    <tr>\n      <th>11</th>\n      <td>2020-09-01</td>\n      <td>0.11</td>\n    </tr>\n    <tr>\n      <th>12</th>\n      <td>2020-10-01</td>\n      <td>0.10</td>\n    </tr>\n  </tbody>\n</table>\n</div>"
     },
     "metadata": {},
     "execution_count": 40
    }
   ],
   "source": [
    "#Import Risk Free Data from FRED\n",
    "\n",
    "rf = pd.read_csv('https://fred.stlouisfed.org/graph/fredgraph.csv?bgcolor=%23e1e9f0&chart_type=line&drp=0&fo=open%20sans&graph_bgcolor=%23ffffff&height=450&mode=fred&recession_bars=on&txtcolor=%23444444&ts=12&tts=12&width=1168&nt=0&thu=0&trc=0&show_legend=yes&show_axis_titles=yes&show_tooltip=yes&id=TB3MS&scale=left&cosd=2019-10-01&coed=2020-10-01&line_color=%234572a7&link_values=false&line_style=solid&mark_type=none&mw=3&lw=2&ost=-99999&oet=99999&mma=0&fml=a&fq=Monthly&fam=avg&fgst=lin&fgsnd=2020-02-01&line_index=1&transformation=lin&vintage_date=2020-11-22&revision_date=2020-11-22&nd=1934-01-01')\n",
    "rf"
   ]
  },
  {
   "cell_type": "code",
   "execution_count": 17,
   "metadata": {},
   "outputs": [],
   "source": [
    "import statsmodels.api as sm\n",
    "#Create Single Table\n",
    "df = pd.merge(spy[['Date','Close']], prpl[['Date', 'Close']], on = 'Date', how='outer', suffixes=('_S&P', '_PRPL'))\n",
    "df"
   ]
  },
  {
   "cell_type": "code",
   "execution_count": 18,
   "metadata": {},
   "outputs": [
    {
     "output_type": "execute_result",
     "data": {
      "text/plain": [
       "          Date    Close_S&P  Close_PRPL  Month\n",
       "0   2020-08-24  3431.280029   20.030001      8\n",
       "1   2020-08-25  3443.620117   19.549999      8\n",
       "2   2020-08-26  3478.729980   19.660000      8\n",
       "3   2020-08-27  3484.550049   19.170000      8\n",
       "4   2020-08-28  3508.010010   19.100000      8\n",
       "..         ...          ...         ...    ...\n",
       "59  2020-11-16  3626.909912   27.290001     11\n",
       "60  2020-11-17  3609.530029   29.350000     11\n",
       "61  2020-11-18  3567.790039   29.860001     11\n",
       "62  2020-11-19  3581.870117   30.400000     11\n",
       "63  2020-11-20  3557.540039   30.590000     11\n",
       "\n",
       "[64 rows x 4 columns]"
      ],
      "text/html": "<div>\n<style scoped>\n    .dataframe tbody tr th:only-of-type {\n        vertical-align: middle;\n    }\n\n    .dataframe tbody tr th {\n        vertical-align: top;\n    }\n\n    .dataframe thead th {\n        text-align: right;\n    }\n</style>\n<table border=\"1\" class=\"dataframe\">\n  <thead>\n    <tr style=\"text-align: right;\">\n      <th></th>\n      <th>Date</th>\n      <th>Close_S&amp;P</th>\n      <th>Close_PRPL</th>\n      <th>Month</th>\n    </tr>\n  </thead>\n  <tbody>\n    <tr>\n      <th>0</th>\n      <td>2020-08-24</td>\n      <td>3431.280029</td>\n      <td>20.030001</td>\n      <td>8</td>\n    </tr>\n    <tr>\n      <th>1</th>\n      <td>2020-08-25</td>\n      <td>3443.620117</td>\n      <td>19.549999</td>\n      <td>8</td>\n    </tr>\n    <tr>\n      <th>2</th>\n      <td>2020-08-26</td>\n      <td>3478.729980</td>\n      <td>19.660000</td>\n      <td>8</td>\n    </tr>\n    <tr>\n      <th>3</th>\n      <td>2020-08-27</td>\n      <td>3484.550049</td>\n      <td>19.170000</td>\n      <td>8</td>\n    </tr>\n    <tr>\n      <th>4</th>\n      <td>2020-08-28</td>\n      <td>3508.010010</td>\n      <td>19.100000</td>\n      <td>8</td>\n    </tr>\n    <tr>\n      <th>...</th>\n      <td>...</td>\n      <td>...</td>\n      <td>...</td>\n      <td>...</td>\n    </tr>\n    <tr>\n      <th>59</th>\n      <td>2020-11-16</td>\n      <td>3626.909912</td>\n      <td>27.290001</td>\n      <td>11</td>\n    </tr>\n    <tr>\n      <th>60</th>\n      <td>2020-11-17</td>\n      <td>3609.530029</td>\n      <td>29.350000</td>\n      <td>11</td>\n    </tr>\n    <tr>\n      <th>61</th>\n      <td>2020-11-18</td>\n      <td>3567.790039</td>\n      <td>29.860001</td>\n      <td>11</td>\n    </tr>\n    <tr>\n      <th>62</th>\n      <td>2020-11-19</td>\n      <td>3581.870117</td>\n      <td>30.400000</td>\n      <td>11</td>\n    </tr>\n    <tr>\n      <th>63</th>\n      <td>2020-11-20</td>\n      <td>3557.540039</td>\n      <td>30.590000</td>\n      <td>11</td>\n    </tr>\n  </tbody>\n</table>\n<p>64 rows × 4 columns</p>\n</div>"
     },
     "metadata": {},
     "execution_count": 18
    }
   ],
   "source": [
    "#Data Cleaning - we need to aggregate the daily returns by month and average them so as to compare against the 3-month t-bill rates\n",
    "import datetime\n",
    "\n",
    "df['Date'] = df['Date'].apply(lambda x: datetime.date(int(x[:4]), int(x[5:7]), int(x[8: 10])))\n",
    "df['Month'] = df['Date'].apply(lambda x: x.month)\n",
    "df"
   ]
  },
  {
   "cell_type": "code",
   "execution_count": 41,
   "metadata": {},
   "outputs": [
    {
     "output_type": "execute_result",
     "data": {
      "text/plain": [
       "          DATE  TB3MS  Month\n",
       "0   2019-10-01   1.65     10\n",
       "1   2019-11-01   1.54     11\n",
       "2   2019-12-01   1.54     12\n",
       "3   2020-01-01   1.52      1\n",
       "4   2020-02-01   1.52      2\n",
       "5   2020-03-01   0.29      3\n",
       "6   2020-04-01   0.14      4\n",
       "7   2020-05-01   0.13      5\n",
       "8   2020-06-01   0.16      6\n",
       "9   2020-07-01   0.13      7\n",
       "10  2020-08-01   0.10      8\n",
       "11  2020-09-01   0.11      9\n",
       "12  2020-10-01   0.10     10"
      ],
      "text/html": "<div>\n<style scoped>\n    .dataframe tbody tr th:only-of-type {\n        vertical-align: middle;\n    }\n\n    .dataframe tbody tr th {\n        vertical-align: top;\n    }\n\n    .dataframe thead th {\n        text-align: right;\n    }\n</style>\n<table border=\"1\" class=\"dataframe\">\n  <thead>\n    <tr style=\"text-align: right;\">\n      <th></th>\n      <th>DATE</th>\n      <th>TB3MS</th>\n      <th>Month</th>\n    </tr>\n  </thead>\n  <tbody>\n    <tr>\n      <th>0</th>\n      <td>2019-10-01</td>\n      <td>1.65</td>\n      <td>10</td>\n    </tr>\n    <tr>\n      <th>1</th>\n      <td>2019-11-01</td>\n      <td>1.54</td>\n      <td>11</td>\n    </tr>\n    <tr>\n      <th>2</th>\n      <td>2019-12-01</td>\n      <td>1.54</td>\n      <td>12</td>\n    </tr>\n    <tr>\n      <th>3</th>\n      <td>2020-01-01</td>\n      <td>1.52</td>\n      <td>1</td>\n    </tr>\n    <tr>\n      <th>4</th>\n      <td>2020-02-01</td>\n      <td>1.52</td>\n      <td>2</td>\n    </tr>\n    <tr>\n      <th>5</th>\n      <td>2020-03-01</td>\n      <td>0.29</td>\n      <td>3</td>\n    </tr>\n    <tr>\n      <th>6</th>\n      <td>2020-04-01</td>\n      <td>0.14</td>\n      <td>4</td>\n    </tr>\n    <tr>\n      <th>7</th>\n      <td>2020-05-01</td>\n      <td>0.13</td>\n      <td>5</td>\n    </tr>\n    <tr>\n      <th>8</th>\n      <td>2020-06-01</td>\n      <td>0.16</td>\n      <td>6</td>\n    </tr>\n    <tr>\n      <th>9</th>\n      <td>2020-07-01</td>\n      <td>0.13</td>\n      <td>7</td>\n    </tr>\n    <tr>\n      <th>10</th>\n      <td>2020-08-01</td>\n      <td>0.10</td>\n      <td>8</td>\n    </tr>\n    <tr>\n      <th>11</th>\n      <td>2020-09-01</td>\n      <td>0.11</td>\n      <td>9</td>\n    </tr>\n    <tr>\n      <th>12</th>\n      <td>2020-10-01</td>\n      <td>0.10</td>\n      <td>10</td>\n    </tr>\n  </tbody>\n</table>\n</div>"
     },
     "metadata": {},
     "execution_count": 41
    }
   ],
   "source": [
    "rf['DATE'] = rf['DATE'].apply(lambda x: datetime.date(int(x[:4]), int(x[5:7]), int(x[8: 10])))\n",
    "rf['Month'] = rf['DATE'].apply(lambda x: x.month)\n",
    "rf\n"
   ]
  },
  {
   "cell_type": "code",
   "execution_count": 42,
   "metadata": {},
   "outputs": [
    {
     "output_type": "execute_result",
     "data": {
      "text/plain": [
       "       TB3MS\n",
       "Month       \n",
       "8.0    0.100\n",
       "9.0    0.110\n",
       "10.0   0.100\n",
       "11.0   0.007"
      ],
      "text/html": "<div>\n<style scoped>\n    .dataframe tbody tr th:only-of-type {\n        vertical-align: middle;\n    }\n\n    .dataframe tbody tr th {\n        vertical-align: top;\n    }\n\n    .dataframe thead th {\n        text-align: right;\n    }\n</style>\n<table border=\"1\" class=\"dataframe\">\n  <thead>\n    <tr style=\"text-align: right;\">\n      <th></th>\n      <th>TB3MS</th>\n    </tr>\n    <tr>\n      <th>Month</th>\n      <th></th>\n    </tr>\n  </thead>\n  <tbody>\n    <tr>\n      <th>8.0</th>\n      <td>0.100</td>\n    </tr>\n    <tr>\n      <th>9.0</th>\n      <td>0.110</td>\n    </tr>\n    <tr>\n      <th>10.0</th>\n      <td>0.100</td>\n    </tr>\n    <tr>\n      <th>11.0</th>\n      <td>0.007</td>\n    </tr>\n  </tbody>\n</table>\n</div>"
     },
     "metadata": {},
     "execution_count": 42
    }
   ],
   "source": [
    "#We're looking at risk free interest rates only for the past three months \n",
    "# (November's data is not in the table,but I found that it's .007, so I'll add it manually)\n",
    "\n",
    "rf = rf[['TB3MS', 'Month']].append({'TB3MS': .007, 'Month': 11}, ignore_index=True)\n",
    "rf = rf = rf.iloc[10:].set_index('Month')\n",
    "rf"
   ]
  },
  {
   "cell_type": "code",
   "execution_count": 50,
   "metadata": {},
   "outputs": [],
   "source": [
    "#Now let's loop through the closing prices and track their changes\n",
    "pbefore = 20.030001\n",
    "sbefore = 3431.280029\t\n",
    "plist = []\n",
    "slist = []\n",
    "i = 0\n",
    "for row in df.iterrows():\n",
    "    \n",
    "    pchange = (row[1]['Close_PRPL'] - pbefore) / pbefore\n",
    "    schange = (row[1]['Close_S&P'] - sbefore) / sbefore\n",
    "    if i == 0:\n",
    "        slist.append(0)\n",
    "        plist.append(0)\n",
    "        pbefore = row[1]['Close_PRPL']\n",
    "        sbefore = row[1]['Close_S&P']\n",
    "        i += 1\n",
    "        continue\n",
    "    plist.append(pchange)\n",
    "    slist.append(schange)\n",
    "    pbefore = row[1]['Close_PRPL']\n",
    "    sbefore = row[1]['Close_S&P']\n",
    "\n",
    "df['PRPL_Change'] = plist\n",
    "df['S&P_Change'] = slist\n",
    "\n"
   ]
  },
  {
   "cell_type": "code",
   "execution_count": 56,
   "metadata": {},
   "outputs": [],
   "source": [
    "#Now we can aggregate our data\n",
    "df = df.groupby('Month').mean()[['PRPL_Change', 'S&P_Change']].merge(rf, left_index= True, right_index= True)"
   ]
  },
  {
   "cell_type": "code",
   "execution_count": 58,
   "metadata": {},
   "outputs": [
    {
     "output_type": "execute_result",
     "data": {
      "text/plain": [
       "       PRPL_Change  S&P_Change  TB3MS  Mkt_Premium  PRPL_Premium\n",
       "Month                                                           \n",
       "8        -0.009477    0.003334  0.100    -0.096666     -0.109477\n",
       "9         0.014445   -0.001788  0.110    -0.111788     -0.095555\n",
       "10        0.006649   -0.001191  0.100    -0.101191     -0.093351\n",
       "11        0.006193    0.005691  0.007    -0.001309     -0.000807"
      ],
      "text/html": "<div>\n<style scoped>\n    .dataframe tbody tr th:only-of-type {\n        vertical-align: middle;\n    }\n\n    .dataframe tbody tr th {\n        vertical-align: top;\n    }\n\n    .dataframe thead th {\n        text-align: right;\n    }\n</style>\n<table border=\"1\" class=\"dataframe\">\n  <thead>\n    <tr style=\"text-align: right;\">\n      <th></th>\n      <th>PRPL_Change</th>\n      <th>S&amp;P_Change</th>\n      <th>TB3MS</th>\n      <th>Mkt_Premium</th>\n      <th>PRPL_Premium</th>\n    </tr>\n    <tr>\n      <th>Month</th>\n      <th></th>\n      <th></th>\n      <th></th>\n      <th></th>\n      <th></th>\n    </tr>\n  </thead>\n  <tbody>\n    <tr>\n      <th>8</th>\n      <td>-0.009477</td>\n      <td>0.003334</td>\n      <td>0.100</td>\n      <td>-0.096666</td>\n      <td>-0.109477</td>\n    </tr>\n    <tr>\n      <th>9</th>\n      <td>0.014445</td>\n      <td>-0.001788</td>\n      <td>0.110</td>\n      <td>-0.111788</td>\n      <td>-0.095555</td>\n    </tr>\n    <tr>\n      <th>10</th>\n      <td>0.006649</td>\n      <td>-0.001191</td>\n      <td>0.100</td>\n      <td>-0.101191</td>\n      <td>-0.093351</td>\n    </tr>\n    <tr>\n      <th>11</th>\n      <td>0.006193</td>\n      <td>0.005691</td>\n      <td>0.007</td>\n      <td>-0.001309</td>\n      <td>-0.000807</td>\n    </tr>\n  </tbody>\n</table>\n</div>"
     },
     "metadata": {},
     "execution_count": 58
    }
   ],
   "source": [
    "#The definition of market / asset premium is the return on the portfolio minus the risk-free rate\n",
    "df['Mkt_Premium'] = df['S&P_Change'] - df['TB3MS']\n",
    "df['PRPL_Premium'] = df['PRPL_Change'] - df['TB3MS']\n",
    "df[['Mkt_Premium', 'PRPL_Premium']]"
   ]
  },
  {
   "cell_type": "code",
   "execution_count": 68,
   "metadata": {},
   "outputs": [
    {
     "output_type": "stream",
     "name": "stdout",
     "text": [
      "                                 OLS Regression Results                                \n",
      "=======================================================================================\n",
      "Dep. Variable:            Mkt_Premium   R-squared (uncentered):                   0.986\n",
      "Model:                            OLS   Adj. R-squared (uncentered):              0.972\n",
      "Method:                 Least Squares   F-statistic:                              69.55\n",
      "Date:                Sun, 22 Nov 2020   Prob (F-statistic):                      0.0142\n",
      "Time:                        13:13:55   Log-Likelihood:                          12.488\n",
      "No. Observations:                   4   AIC:                                     -20.98\n",
      "Df Residuals:                       2   BIC:                                     -22.20\n",
      "Df Model:                           2                                                  \n",
      "Covariance Type:            nonrobust                                                  \n",
      "================================================================================\n",
      "                   coef    std err          t      P>|t|      [0.025      0.975]\n",
      "--------------------------------------------------------------------------------\n",
      "const           -0.0029      0.015     -0.194      0.864      -0.068       0.062\n",
      "PRPL_Premium     1.0001      0.175      5.726      0.029       0.249       1.752\n",
      "==============================================================================\n",
      "Omnibus:                          nan   Durbin-Watson:                   2.128\n",
      "Prob(Omnibus):                    nan   Jarque-Bera (JB):                0.298\n",
      "Skew:                           0.302   Prob(JB):                        0.862\n",
      "Kurtosis:                       1.807   Cond. No.                         23.3\n",
      "==============================================================================\n",
      "\n",
      "Notes:\n",
      "[1] R² is computed without centering (uncentered) since the model does not contain a constant.\n",
      "[2] Standard Errors assume that the covariance matrix of the errors is correctly specified.\n",
      "/home/harry/.local/lib/python3.8/site-packages/statsmodels/stats/stattools.py:74: ValueWarning: omni_normtest is not valid with less than 8 observations; 4 samples were given.\n",
      "  warn(\"omni_normtest is not valid with less than 8 observations; %i \"\n"
     ]
    }
   ],
   "source": [
    "#The assets beta is the correlation coefficient for the regression where x is the asset premium, and y is the market premium\n",
    "#So we just need to do a simple linear regression\n",
    "import statsmodels.api as sm\n",
    "x = df['PRPL_Premium']\n",
    "y = df['Mkt_Premium']\n",
    "x = sm.add_constant(x)\n",
    "model = sm.OLS(y, x, hasconst=False).fit()\n",
    "print(model.summary())"
   ]
  },
  {
   "source": [
    "#Beta is found to be 1.0001, significant at the 99% level\n"
   ],
   "cell_type": "markdown",
   "metadata": {}
  },
  {
   "cell_type": "code",
   "execution_count": 77,
   "metadata": {},
   "outputs": [
    {
     "output_type": "execute_result",
     "data": {
      "text/plain": [
       "       PRPL_Premium  Predicted_Premium\n",
       "Month                                 \n",
       "8         -0.109477          -0.099576\n",
       "9         -0.095555          -0.114699\n",
       "10        -0.093351          -0.104102\n",
       "11        -0.000807          -0.004209"
      ],
      "text/html": "<div>\n<style scoped>\n    .dataframe tbody tr th:only-of-type {\n        vertical-align: middle;\n    }\n\n    .dataframe tbody tr th {\n        vertical-align: top;\n    }\n\n    .dataframe thead th {\n        text-align: right;\n    }\n</style>\n<table border=\"1\" class=\"dataframe\">\n  <thead>\n    <tr style=\"text-align: right;\">\n      <th></th>\n      <th>PRPL_Premium</th>\n      <th>Predicted_Premium</th>\n    </tr>\n    <tr>\n      <th>Month</th>\n      <th></th>\n      <th></th>\n    </tr>\n  </thead>\n  <tbody>\n    <tr>\n      <th>8</th>\n      <td>-0.109477</td>\n      <td>-0.099576</td>\n    </tr>\n    <tr>\n      <th>9</th>\n      <td>-0.095555</td>\n      <td>-0.114699</td>\n    </tr>\n    <tr>\n      <th>10</th>\n      <td>-0.093351</td>\n      <td>-0.104102</td>\n    </tr>\n    <tr>\n      <th>11</th>\n      <td>-0.000807</td>\n      <td>-0.004209</td>\n    </tr>\n  </tbody>\n</table>\n</div>"
     },
     "metadata": {},
     "execution_count": 77
    }
   ],
   "source": [
    "df['Predicted_Premium'] = 1.0001 * df['Mkt_Premium'] -.0029\n",
    "df[['PRPL_Premium', 'Predicted_Premium']]"
   ]
  },
  {
   "cell_type": "code",
   "execution_count": 76,
   "metadata": {},
   "outputs": [
    {
     "output_type": "execute_result",
     "data": {
      "text/plain": [
       "<matplotlib.legend.Legend at 0x7f8d6b7f4340>"
      ]
     },
     "metadata": {},
     "execution_count": 76
    },
    {
     "output_type": "display_data",
     "data": {
      "text/plain": "<Figure size 864x576 with 1 Axes>",
      "image/svg+xml": "<?xml version=\"1.0\" encoding=\"utf-8\" standalone=\"no\"?>\n<!DOCTYPE svg PUBLIC \"-//W3C//DTD SVG 1.1//EN\"\n  \"http://www.w3.org/Graphics/SVG/1.1/DTD/svg11.dtd\">\n<!-- Created with matplotlib (https://matplotlib.org/) -->\n<svg height=\"465.958125pt\" version=\"1.1\" viewBox=\"0 0 721.645312 465.958125\" width=\"721.645312pt\" xmlns=\"http://www.w3.org/2000/svg\" xmlns:xlink=\"http://www.w3.org/1999/xlink\">\n <metadata>\n  <rdf:RDF xmlns:cc=\"http://creativecommons.org/ns#\" xmlns:dc=\"http://purl.org/dc/elements/1.1/\" xmlns:rdf=\"http://www.w3.org/1999/02/22-rdf-syntax-ns#\">\n   <cc:Work>\n    <dc:type rdf:resource=\"http://purl.org/dc/dcmitype/StillImage\"/>\n    <dc:date>2020-11-22T13:17:26.131520</dc:date>\n    <dc:format>image/svg+xml</dc:format>\n    <dc:creator>\n     <cc:Agent>\n      <dc:title>Matplotlib v3.3.3, https://matplotlib.org/</dc:title>\n     </cc:Agent>\n    </dc:creator>\n   </cc:Work>\n  </rdf:RDF>\n </metadata>\n <defs>\n  <style type=\"text/css\">*{stroke-linecap:butt;stroke-linejoin:round;}</style>\n </defs>\n <g id=\"figure_1\">\n  <g id=\"patch_1\">\n   <path d=\"M 0 465.958125 \nL 721.645312 465.958125 \nL 721.645312 0 \nL 0 0 \nz\n\" style=\"fill:none;\"/>\n  </g>\n  <g id=\"axes_1\">\n   <g id=\"patch_2\">\n    <path d=\"M 44.845313 442.08 \nL 714.445312 442.08 \nL 714.445312 7.2 \nL 44.845313 7.2 \nz\n\" style=\"fill:#ffffff;\"/>\n   </g>\n   <g id=\"PathCollection_1\">\n    <defs>\n     <path d=\"M 0 3 \nC 0.795609 3 1.55874 2.683901 2.12132 2.12132 \nC 2.683901 1.55874 3 0.795609 3 0 \nC 3 -0.795609 2.683901 -1.55874 2.12132 -2.12132 \nC 1.55874 -2.683901 0.795609 -3 0 -3 \nC -0.795609 -3 -1.55874 -2.683901 -2.12132 -2.12132 \nC -2.683901 -1.55874 -3 -0.795609 -3 0 \nC -3 0.795609 -2.683901 1.55874 -2.12132 2.12132 \nC -1.55874 2.683901 -0.795609 3 0 3 \nz\n\" id=\"mfe80853651\" style=\"stroke:#1f77b4;\"/>\n    </defs>\n    <g clip-path=\"url(#pe7b0fd9092)\">\n     <use style=\"fill:#1f77b4;stroke:#1f77b4;\" x=\"75.281676\" xlink:href=\"#mfe80853651\" y=\"369.816991\"/>\n     <use style=\"fill:#1f77b4;stroke:#1f77b4;\" x=\"278.190767\" xlink:href=\"#mfe80853651\" y=\"422.312727\"/>\n     <use style=\"fill:#1f77b4;stroke:#1f77b4;\" x=\"481.099858\" xlink:href=\"#mfe80853651\" y=\"385.526575\"/>\n     <use style=\"fill:#1f77b4;stroke:#1f77b4;\" x=\"684.008949\" xlink:href=\"#mfe80853651\" y=\"38.774997\"/>\n    </g>\n   </g>\n   <g id=\"PathCollection_2\">\n    <defs>\n     <path d=\"M 0 3 \nC 0.795609 3 1.55874 2.683901 2.12132 2.12132 \nC 2.683901 1.55874 3 0.795609 3 0 \nC 3 -0.795609 2.683901 -1.55874 2.12132 -2.12132 \nC 1.55874 -2.683901 0.795609 -3 0 -3 \nC -0.795609 -3 -1.55874 -2.683901 -2.12132 -2.12132 \nC -2.683901 -1.55874 -3 -0.795609 -3 0 \nC -3 0.795609 -2.683901 1.55874 -2.12132 2.12132 \nC -1.55874 2.683901 -0.795609 3 0 3 \nz\n\" id=\"m998f7d15ba\" style=\"stroke:#ff7f0e;\"/>\n    </defs>\n    <g clip-path=\"url(#pe7b0fd9092)\">\n     <use style=\"fill:#ff7f0e;stroke:#ff7f0e;\" x=\"75.281676\" xlink:href=\"#m998f7d15ba\" y=\"404.185231\"/>\n     <use style=\"fill:#ff7f0e;stroke:#ff7f0e;\" x=\"278.190767\" xlink:href=\"#m998f7d15ba\" y=\"355.857963\"/>\n     <use style=\"fill:#ff7f0e;stroke:#ff7f0e;\" x=\"481.099858\" xlink:href=\"#m998f7d15ba\" y=\"348.209381\"/>\n     <use style=\"fill:#ff7f0e;stroke:#ff7f0e;\" x=\"684.008949\" xlink:href=\"#m998f7d15ba\" y=\"26.967273\"/>\n    </g>\n   </g>\n   <g id=\"matplotlib.axis_1\">\n    <g id=\"xtick_1\">\n     <g id=\"line2d_1\">\n      <defs>\n       <path d=\"M 0 0 \nL 0 3.5 \n\" id=\"mbfe86ad8e0\" style=\"stroke:#000000;stroke-width:0.8;\"/>\n      </defs>\n      <g>\n       <use style=\"stroke:#000000;stroke-width:0.8;\" x=\"75.281676\" xlink:href=\"#mbfe86ad8e0\" y=\"442.08\"/>\n      </g>\n     </g>\n     <g id=\"text_1\">\n      <!-- 8.0 -->\n      <g transform=\"translate(67.330114 456.678437)scale(0.1 -0.1)\">\n       <defs>\n        <path d=\"M 31.78125 34.625 \nQ 24.75 34.625 20.71875 30.859375 \nQ 16.703125 27.09375 16.703125 20.515625 \nQ 16.703125 13.921875 20.71875 10.15625 \nQ 24.75 6.390625 31.78125 6.390625 \nQ 38.8125 6.390625 42.859375 10.171875 \nQ 46.921875 13.96875 46.921875 20.515625 \nQ 46.921875 27.09375 42.890625 30.859375 \nQ 38.875 34.625 31.78125 34.625 \nz\nM 21.921875 38.8125 \nQ 15.578125 40.375 12.03125 44.71875 \nQ 8.5 49.078125 8.5 55.328125 \nQ 8.5 64.0625 14.71875 69.140625 \nQ 20.953125 74.21875 31.78125 74.21875 \nQ 42.671875 74.21875 48.875 69.140625 \nQ 55.078125 64.0625 55.078125 55.328125 \nQ 55.078125 49.078125 51.53125 44.71875 \nQ 48 40.375 41.703125 38.8125 \nQ 48.828125 37.15625 52.796875 32.3125 \nQ 56.78125 27.484375 56.78125 20.515625 \nQ 56.78125 9.90625 50.3125 4.234375 \nQ 43.84375 -1.421875 31.78125 -1.421875 \nQ 19.734375 -1.421875 13.25 4.234375 \nQ 6.78125 9.90625 6.78125 20.515625 \nQ 6.78125 27.484375 10.78125 32.3125 \nQ 14.796875 37.15625 21.921875 38.8125 \nz\nM 18.3125 54.390625 \nQ 18.3125 48.734375 21.84375 45.5625 \nQ 25.390625 42.390625 31.78125 42.390625 \nQ 38.140625 42.390625 41.71875 45.5625 \nQ 45.3125 48.734375 45.3125 54.390625 \nQ 45.3125 60.0625 41.71875 63.234375 \nQ 38.140625 66.40625 31.78125 66.40625 \nQ 25.390625 66.40625 21.84375 63.234375 \nQ 18.3125 60.0625 18.3125 54.390625 \nz\n\" id=\"DejaVuSans-56\"/>\n        <path d=\"M 10.6875 12.40625 \nL 21 12.40625 \nL 21 0 \nL 10.6875 0 \nz\n\" id=\"DejaVuSans-46\"/>\n        <path d=\"M 31.78125 66.40625 \nQ 24.171875 66.40625 20.328125 58.90625 \nQ 16.5 51.421875 16.5 36.375 \nQ 16.5 21.390625 20.328125 13.890625 \nQ 24.171875 6.390625 31.78125 6.390625 \nQ 39.453125 6.390625 43.28125 13.890625 \nQ 47.125 21.390625 47.125 36.375 \nQ 47.125 51.421875 43.28125 58.90625 \nQ 39.453125 66.40625 31.78125 66.40625 \nz\nM 31.78125 74.21875 \nQ 44.046875 74.21875 50.515625 64.515625 \nQ 56.984375 54.828125 56.984375 36.375 \nQ 56.984375 17.96875 50.515625 8.265625 \nQ 44.046875 -1.421875 31.78125 -1.421875 \nQ 19.53125 -1.421875 13.0625 8.265625 \nQ 6.59375 17.96875 6.59375 36.375 \nQ 6.59375 54.828125 13.0625 64.515625 \nQ 19.53125 74.21875 31.78125 74.21875 \nz\n\" id=\"DejaVuSans-48\"/>\n       </defs>\n       <use xlink:href=\"#DejaVuSans-56\"/>\n       <use x=\"63.623047\" xlink:href=\"#DejaVuSans-46\"/>\n       <use x=\"95.410156\" xlink:href=\"#DejaVuSans-48\"/>\n      </g>\n     </g>\n    </g>\n    <g id=\"xtick_2\">\n     <g id=\"line2d_2\">\n      <g>\n       <use style=\"stroke:#000000;stroke-width:0.8;\" x=\"176.736222\" xlink:href=\"#mbfe86ad8e0\" y=\"442.08\"/>\n      </g>\n     </g>\n     <g id=\"text_2\">\n      <!-- 8.5 -->\n      <g transform=\"translate(168.784659 456.678437)scale(0.1 -0.1)\">\n       <defs>\n        <path d=\"M 10.796875 72.90625 \nL 49.515625 72.90625 \nL 49.515625 64.59375 \nL 19.828125 64.59375 \nL 19.828125 46.734375 \nQ 21.96875 47.46875 24.109375 47.828125 \nQ 26.265625 48.1875 28.421875 48.1875 \nQ 40.625 48.1875 47.75 41.5 \nQ 54.890625 34.8125 54.890625 23.390625 \nQ 54.890625 11.625 47.5625 5.09375 \nQ 40.234375 -1.421875 26.90625 -1.421875 \nQ 22.3125 -1.421875 17.546875 -0.640625 \nQ 12.796875 0.140625 7.71875 1.703125 \nL 7.71875 11.625 \nQ 12.109375 9.234375 16.796875 8.0625 \nQ 21.484375 6.890625 26.703125 6.890625 \nQ 35.15625 6.890625 40.078125 11.328125 \nQ 45.015625 15.765625 45.015625 23.390625 \nQ 45.015625 31 40.078125 35.4375 \nQ 35.15625 39.890625 26.703125 39.890625 \nQ 22.75 39.890625 18.8125 39.015625 \nQ 14.890625 38.140625 10.796875 36.28125 \nz\n\" id=\"DejaVuSans-53\"/>\n       </defs>\n       <use xlink:href=\"#DejaVuSans-56\"/>\n       <use x=\"63.623047\" xlink:href=\"#DejaVuSans-46\"/>\n       <use x=\"95.410156\" xlink:href=\"#DejaVuSans-53\"/>\n      </g>\n     </g>\n    </g>\n    <g id=\"xtick_3\">\n     <g id=\"line2d_3\">\n      <g>\n       <use style=\"stroke:#000000;stroke-width:0.8;\" x=\"278.190767\" xlink:href=\"#mbfe86ad8e0\" y=\"442.08\"/>\n      </g>\n     </g>\n     <g id=\"text_3\">\n      <!-- 9.0 -->\n      <g transform=\"translate(270.239205 456.678437)scale(0.1 -0.1)\">\n       <defs>\n        <path d=\"M 10.984375 1.515625 \nL 10.984375 10.5 \nQ 14.703125 8.734375 18.5 7.8125 \nQ 22.3125 6.890625 25.984375 6.890625 \nQ 35.75 6.890625 40.890625 13.453125 \nQ 46.046875 20.015625 46.78125 33.40625 \nQ 43.953125 29.203125 39.59375 26.953125 \nQ 35.25 24.703125 29.984375 24.703125 \nQ 19.046875 24.703125 12.671875 31.3125 \nQ 6.296875 37.9375 6.296875 49.421875 \nQ 6.296875 60.640625 12.9375 67.421875 \nQ 19.578125 74.21875 30.609375 74.21875 \nQ 43.265625 74.21875 49.921875 64.515625 \nQ 56.59375 54.828125 56.59375 36.375 \nQ 56.59375 19.140625 48.40625 8.859375 \nQ 40.234375 -1.421875 26.421875 -1.421875 \nQ 22.703125 -1.421875 18.890625 -0.6875 \nQ 15.09375 0.046875 10.984375 1.515625 \nz\nM 30.609375 32.421875 \nQ 37.25 32.421875 41.125 36.953125 \nQ 45.015625 41.5 45.015625 49.421875 \nQ 45.015625 57.28125 41.125 61.84375 \nQ 37.25 66.40625 30.609375 66.40625 \nQ 23.96875 66.40625 20.09375 61.84375 \nQ 16.21875 57.28125 16.21875 49.421875 \nQ 16.21875 41.5 20.09375 36.953125 \nQ 23.96875 32.421875 30.609375 32.421875 \nz\n\" id=\"DejaVuSans-57\"/>\n       </defs>\n       <use xlink:href=\"#DejaVuSans-57\"/>\n       <use x=\"63.623047\" xlink:href=\"#DejaVuSans-46\"/>\n       <use x=\"95.410156\" xlink:href=\"#DejaVuSans-48\"/>\n      </g>\n     </g>\n    </g>\n    <g id=\"xtick_4\">\n     <g id=\"line2d_4\">\n      <g>\n       <use style=\"stroke:#000000;stroke-width:0.8;\" x=\"379.645312\" xlink:href=\"#mbfe86ad8e0\" y=\"442.08\"/>\n      </g>\n     </g>\n     <g id=\"text_4\">\n      <!-- 9.5 -->\n      <g transform=\"translate(371.69375 456.678437)scale(0.1 -0.1)\">\n       <use xlink:href=\"#DejaVuSans-57\"/>\n       <use x=\"63.623047\" xlink:href=\"#DejaVuSans-46\"/>\n       <use x=\"95.410156\" xlink:href=\"#DejaVuSans-53\"/>\n      </g>\n     </g>\n    </g>\n    <g id=\"xtick_5\">\n     <g id=\"line2d_5\">\n      <g>\n       <use style=\"stroke:#000000;stroke-width:0.8;\" x=\"481.099858\" xlink:href=\"#mbfe86ad8e0\" y=\"442.08\"/>\n      </g>\n     </g>\n     <g id=\"text_5\">\n      <!-- 10.0 -->\n      <g transform=\"translate(469.967045 456.678437)scale(0.1 -0.1)\">\n       <defs>\n        <path d=\"M 12.40625 8.296875 \nL 28.515625 8.296875 \nL 28.515625 63.921875 \nL 10.984375 60.40625 \nL 10.984375 69.390625 \nL 28.421875 72.90625 \nL 38.28125 72.90625 \nL 38.28125 8.296875 \nL 54.390625 8.296875 \nL 54.390625 0 \nL 12.40625 0 \nz\n\" id=\"DejaVuSans-49\"/>\n       </defs>\n       <use xlink:href=\"#DejaVuSans-49\"/>\n       <use x=\"63.623047\" xlink:href=\"#DejaVuSans-48\"/>\n       <use x=\"127.246094\" xlink:href=\"#DejaVuSans-46\"/>\n       <use x=\"159.033203\" xlink:href=\"#DejaVuSans-48\"/>\n      </g>\n     </g>\n    </g>\n    <g id=\"xtick_6\">\n     <g id=\"line2d_6\">\n      <g>\n       <use style=\"stroke:#000000;stroke-width:0.8;\" x=\"582.554403\" xlink:href=\"#mbfe86ad8e0\" y=\"442.08\"/>\n      </g>\n     </g>\n     <g id=\"text_6\">\n      <!-- 10.5 -->\n      <g transform=\"translate(571.421591 456.678437)scale(0.1 -0.1)\">\n       <use xlink:href=\"#DejaVuSans-49\"/>\n       <use x=\"63.623047\" xlink:href=\"#DejaVuSans-48\"/>\n       <use x=\"127.246094\" xlink:href=\"#DejaVuSans-46\"/>\n       <use x=\"159.033203\" xlink:href=\"#DejaVuSans-53\"/>\n      </g>\n     </g>\n    </g>\n    <g id=\"xtick_7\">\n     <g id=\"line2d_7\">\n      <g>\n       <use style=\"stroke:#000000;stroke-width:0.8;\" x=\"684.008949\" xlink:href=\"#mbfe86ad8e0\" y=\"442.08\"/>\n      </g>\n     </g>\n     <g id=\"text_7\">\n      <!-- 11.0 -->\n      <g transform=\"translate(672.876136 456.678437)scale(0.1 -0.1)\">\n       <use xlink:href=\"#DejaVuSans-49\"/>\n       <use x=\"63.623047\" xlink:href=\"#DejaVuSans-49\"/>\n       <use x=\"127.246094\" xlink:href=\"#DejaVuSans-46\"/>\n       <use x=\"159.033203\" xlink:href=\"#DejaVuSans-48\"/>\n      </g>\n     </g>\n    </g>\n   </g>\n   <g id=\"matplotlib.axis_2\">\n    <g id=\"ytick_1\">\n     <g id=\"line2d_8\">\n      <defs>\n       <path d=\"M 0 0 \nL -3.5 0 \n\" id=\"ma53f56f3ca\" style=\"stroke:#000000;stroke-width:0.8;\"/>\n      </defs>\n      <g>\n       <use style=\"stroke:#000000;stroke-width:0.8;\" x=\"44.845313\" xlink:href=\"#ma53f56f3ca\" y=\"440.714089\"/>\n      </g>\n     </g>\n     <g id=\"text_8\">\n      <!-- −0.12 -->\n      <g transform=\"translate(7.2 444.513308)scale(0.1 -0.1)\">\n       <defs>\n        <path d=\"M 10.59375 35.5 \nL 73.1875 35.5 \nL 73.1875 27.203125 \nL 10.59375 27.203125 \nz\n\" id=\"DejaVuSans-8722\"/>\n        <path d=\"M 19.1875 8.296875 \nL 53.609375 8.296875 \nL 53.609375 0 \nL 7.328125 0 \nL 7.328125 8.296875 \nQ 12.9375 14.109375 22.625 23.890625 \nQ 32.328125 33.6875 34.8125 36.53125 \nQ 39.546875 41.84375 41.421875 45.53125 \nQ 43.3125 49.21875 43.3125 52.78125 \nQ 43.3125 58.59375 39.234375 62.25 \nQ 35.15625 65.921875 28.609375 65.921875 \nQ 23.96875 65.921875 18.8125 64.3125 \nQ 13.671875 62.703125 7.8125 59.421875 \nL 7.8125 69.390625 \nQ 13.765625 71.78125 18.9375 73 \nQ 24.125 74.21875 28.421875 74.21875 \nQ 39.75 74.21875 46.484375 68.546875 \nQ 53.21875 62.890625 53.21875 53.421875 \nQ 53.21875 48.921875 51.53125 44.890625 \nQ 49.859375 40.875 45.40625 35.40625 \nQ 44.1875 33.984375 37.640625 27.21875 \nQ 31.109375 20.453125 19.1875 8.296875 \nz\n\" id=\"DejaVuSans-50\"/>\n       </defs>\n       <use xlink:href=\"#DejaVuSans-8722\"/>\n       <use x=\"83.789062\" xlink:href=\"#DejaVuSans-48\"/>\n       <use x=\"147.412109\" xlink:href=\"#DejaVuSans-46\"/>\n       <use x=\"179.199219\" xlink:href=\"#DejaVuSans-49\"/>\n       <use x=\"242.822266\" xlink:href=\"#DejaVuSans-50\"/>\n      </g>\n     </g>\n    </g>\n    <g id=\"ytick_2\">\n     <g id=\"line2d_9\">\n      <g>\n       <use style=\"stroke:#000000;stroke-width:0.8;\" x=\"44.845313\" xlink:href=\"#ma53f56f3ca\" y=\"371.28916\"/>\n      </g>\n     </g>\n     <g id=\"text_9\">\n      <!-- −0.10 -->\n      <g transform=\"translate(7.2 375.088379)scale(0.1 -0.1)\">\n       <use xlink:href=\"#DejaVuSans-8722\"/>\n       <use x=\"83.789062\" xlink:href=\"#DejaVuSans-48\"/>\n       <use x=\"147.412109\" xlink:href=\"#DejaVuSans-46\"/>\n       <use x=\"179.199219\" xlink:href=\"#DejaVuSans-49\"/>\n       <use x=\"242.822266\" xlink:href=\"#DejaVuSans-48\"/>\n      </g>\n     </g>\n    </g>\n    <g id=\"ytick_3\">\n     <g id=\"line2d_10\">\n      <g>\n       <use style=\"stroke:#000000;stroke-width:0.8;\" x=\"44.845313\" xlink:href=\"#ma53f56f3ca\" y=\"301.864232\"/>\n      </g>\n     </g>\n     <g id=\"text_10\">\n      <!-- −0.08 -->\n      <g transform=\"translate(7.2 305.66345)scale(0.1 -0.1)\">\n       <use xlink:href=\"#DejaVuSans-8722\"/>\n       <use x=\"83.789062\" xlink:href=\"#DejaVuSans-48\"/>\n       <use x=\"147.412109\" xlink:href=\"#DejaVuSans-46\"/>\n       <use x=\"179.199219\" xlink:href=\"#DejaVuSans-48\"/>\n       <use x=\"242.822266\" xlink:href=\"#DejaVuSans-56\"/>\n      </g>\n     </g>\n    </g>\n    <g id=\"ytick_4\">\n     <g id=\"line2d_11\">\n      <g>\n       <use style=\"stroke:#000000;stroke-width:0.8;\" x=\"44.845313\" xlink:href=\"#ma53f56f3ca\" y=\"232.439303\"/>\n      </g>\n     </g>\n     <g id=\"text_11\">\n      <!-- −0.06 -->\n      <g transform=\"translate(7.2 236.238522)scale(0.1 -0.1)\">\n       <defs>\n        <path d=\"M 33.015625 40.375 \nQ 26.375 40.375 22.484375 35.828125 \nQ 18.609375 31.296875 18.609375 23.390625 \nQ 18.609375 15.53125 22.484375 10.953125 \nQ 26.375 6.390625 33.015625 6.390625 \nQ 39.65625 6.390625 43.53125 10.953125 \nQ 47.40625 15.53125 47.40625 23.390625 \nQ 47.40625 31.296875 43.53125 35.828125 \nQ 39.65625 40.375 33.015625 40.375 \nz\nM 52.59375 71.296875 \nL 52.59375 62.3125 \nQ 48.875 64.0625 45.09375 64.984375 \nQ 41.3125 65.921875 37.59375 65.921875 \nQ 27.828125 65.921875 22.671875 59.328125 \nQ 17.53125 52.734375 16.796875 39.40625 \nQ 19.671875 43.65625 24.015625 45.921875 \nQ 28.375 48.1875 33.59375 48.1875 \nQ 44.578125 48.1875 50.953125 41.515625 \nQ 57.328125 34.859375 57.328125 23.390625 \nQ 57.328125 12.15625 50.6875 5.359375 \nQ 44.046875 -1.421875 33.015625 -1.421875 \nQ 20.359375 -1.421875 13.671875 8.265625 \nQ 6.984375 17.96875 6.984375 36.375 \nQ 6.984375 53.65625 15.1875 63.9375 \nQ 23.390625 74.21875 37.203125 74.21875 \nQ 40.921875 74.21875 44.703125 73.484375 \nQ 48.484375 72.75 52.59375 71.296875 \nz\n\" id=\"DejaVuSans-54\"/>\n       </defs>\n       <use xlink:href=\"#DejaVuSans-8722\"/>\n       <use x=\"83.789062\" xlink:href=\"#DejaVuSans-48\"/>\n       <use x=\"147.412109\" xlink:href=\"#DejaVuSans-46\"/>\n       <use x=\"179.199219\" xlink:href=\"#DejaVuSans-48\"/>\n       <use x=\"242.822266\" xlink:href=\"#DejaVuSans-54\"/>\n      </g>\n     </g>\n    </g>\n    <g id=\"ytick_5\">\n     <g id=\"line2d_12\">\n      <g>\n       <use style=\"stroke:#000000;stroke-width:0.8;\" x=\"44.845313\" xlink:href=\"#ma53f56f3ca\" y=\"163.014374\"/>\n      </g>\n     </g>\n     <g id=\"text_12\">\n      <!-- −0.04 -->\n      <g transform=\"translate(7.2 166.813593)scale(0.1 -0.1)\">\n       <defs>\n        <path d=\"M 37.796875 64.3125 \nL 12.890625 25.390625 \nL 37.796875 25.390625 \nz\nM 35.203125 72.90625 \nL 47.609375 72.90625 \nL 47.609375 25.390625 \nL 58.015625 25.390625 \nL 58.015625 17.1875 \nL 47.609375 17.1875 \nL 47.609375 0 \nL 37.796875 0 \nL 37.796875 17.1875 \nL 4.890625 17.1875 \nL 4.890625 26.703125 \nz\n\" id=\"DejaVuSans-52\"/>\n       </defs>\n       <use xlink:href=\"#DejaVuSans-8722\"/>\n       <use x=\"83.789062\" xlink:href=\"#DejaVuSans-48\"/>\n       <use x=\"147.412109\" xlink:href=\"#DejaVuSans-46\"/>\n       <use x=\"179.199219\" xlink:href=\"#DejaVuSans-48\"/>\n       <use x=\"242.822266\" xlink:href=\"#DejaVuSans-52\"/>\n      </g>\n     </g>\n    </g>\n    <g id=\"ytick_6\">\n     <g id=\"line2d_13\">\n      <g>\n       <use style=\"stroke:#000000;stroke-width:0.8;\" x=\"44.845313\" xlink:href=\"#ma53f56f3ca\" y=\"93.589445\"/>\n      </g>\n     </g>\n     <g id=\"text_13\">\n      <!-- −0.02 -->\n      <g transform=\"translate(7.2 97.388664)scale(0.1 -0.1)\">\n       <use xlink:href=\"#DejaVuSans-8722\"/>\n       <use x=\"83.789062\" xlink:href=\"#DejaVuSans-48\"/>\n       <use x=\"147.412109\" xlink:href=\"#DejaVuSans-46\"/>\n       <use x=\"179.199219\" xlink:href=\"#DejaVuSans-48\"/>\n       <use x=\"242.822266\" xlink:href=\"#DejaVuSans-50\"/>\n      </g>\n     </g>\n    </g>\n    <g id=\"ytick_7\">\n     <g id=\"line2d_14\">\n      <g>\n       <use style=\"stroke:#000000;stroke-width:0.8;\" x=\"44.845313\" xlink:href=\"#ma53f56f3ca\" y=\"24.164517\"/>\n      </g>\n     </g>\n     <g id=\"text_14\">\n      <!-- 0.00 -->\n      <g transform=\"translate(15.579688 27.963735)scale(0.1 -0.1)\">\n       <use xlink:href=\"#DejaVuSans-48\"/>\n       <use x=\"63.623047\" xlink:href=\"#DejaVuSans-46\"/>\n       <use x=\"95.410156\" xlink:href=\"#DejaVuSans-48\"/>\n       <use x=\"159.033203\" xlink:href=\"#DejaVuSans-48\"/>\n      </g>\n     </g>\n    </g>\n   </g>\n   <g id=\"patch_3\">\n    <path d=\"M 44.845313 442.08 \nL 44.845313 7.2 \n\" style=\"fill:none;stroke:#000000;stroke-linecap:square;stroke-linejoin:miter;stroke-width:0.8;\"/>\n   </g>\n   <g id=\"patch_4\">\n    <path d=\"M 714.445312 442.08 \nL 714.445312 7.2 \n\" style=\"fill:none;stroke:#000000;stroke-linecap:square;stroke-linejoin:miter;stroke-width:0.8;\"/>\n   </g>\n   <g id=\"patch_5\">\n    <path d=\"M 44.845312 442.08 \nL 714.445312 442.08 \n\" style=\"fill:none;stroke:#000000;stroke-linecap:square;stroke-linejoin:miter;stroke-width:0.8;\"/>\n   </g>\n   <g id=\"patch_6\">\n    <path d=\"M 44.845312 7.2 \nL 714.445312 7.2 \n\" style=\"fill:none;stroke:#000000;stroke-linecap:square;stroke-linejoin:miter;stroke-width:0.8;\"/>\n   </g>\n   <g id=\"legend_1\">\n    <g id=\"patch_7\">\n     <path d=\"M 51.845313 44.55625 \nL 133.51875 44.55625 \nQ 135.51875 44.55625 135.51875 42.55625 \nL 135.51875 14.2 \nQ 135.51875 12.2 133.51875 12.2 \nL 51.845313 12.2 \nQ 49.845313 12.2 49.845313 14.2 \nL 49.845313 42.55625 \nQ 49.845313 44.55625 51.845313 44.55625 \nz\n\" style=\"fill:#ffffff;opacity:0.8;stroke:#cccccc;stroke-linejoin:miter;\"/>\n    </g>\n    <g id=\"PathCollection_3\">\n     <g>\n      <use style=\"fill:#1f77b4;stroke:#1f77b4;\" x=\"63.845313\" xlink:href=\"#mfe80853651\" y=\"21.173437\"/>\n     </g>\n    </g>\n    <g id=\"text_15\">\n     <!-- Prediction -->\n     <g transform=\"translate(81.845313 23.798437)scale(0.1 -0.1)\">\n      <defs>\n       <path d=\"M 19.671875 64.796875 \nL 19.671875 37.40625 \nL 32.078125 37.40625 \nQ 38.96875 37.40625 42.71875 40.96875 \nQ 46.484375 44.53125 46.484375 51.125 \nQ 46.484375 57.671875 42.71875 61.234375 \nQ 38.96875 64.796875 32.078125 64.796875 \nz\nM 9.8125 72.90625 \nL 32.078125 72.90625 \nQ 44.34375 72.90625 50.609375 67.359375 \nQ 56.890625 61.8125 56.890625 51.125 \nQ 56.890625 40.328125 50.609375 34.8125 \nQ 44.34375 29.296875 32.078125 29.296875 \nL 19.671875 29.296875 \nL 19.671875 0 \nL 9.8125 0 \nz\n\" id=\"DejaVuSans-80\"/>\n       <path d=\"M 41.109375 46.296875 \nQ 39.59375 47.171875 37.8125 47.578125 \nQ 36.03125 48 33.890625 48 \nQ 26.265625 48 22.1875 43.046875 \nQ 18.109375 38.09375 18.109375 28.8125 \nL 18.109375 0 \nL 9.078125 0 \nL 9.078125 54.6875 \nL 18.109375 54.6875 \nL 18.109375 46.1875 \nQ 20.953125 51.171875 25.484375 53.578125 \nQ 30.03125 56 36.53125 56 \nQ 37.453125 56 38.578125 55.875 \nQ 39.703125 55.765625 41.0625 55.515625 \nz\n\" id=\"DejaVuSans-114\"/>\n       <path d=\"M 56.203125 29.59375 \nL 56.203125 25.203125 \nL 14.890625 25.203125 \nQ 15.484375 15.921875 20.484375 11.0625 \nQ 25.484375 6.203125 34.421875 6.203125 \nQ 39.59375 6.203125 44.453125 7.46875 \nQ 49.3125 8.734375 54.109375 11.28125 \nL 54.109375 2.78125 \nQ 49.265625 0.734375 44.1875 -0.34375 \nQ 39.109375 -1.421875 33.890625 -1.421875 \nQ 20.796875 -1.421875 13.15625 6.1875 \nQ 5.515625 13.8125 5.515625 26.8125 \nQ 5.515625 40.234375 12.765625 48.109375 \nQ 20.015625 56 32.328125 56 \nQ 43.359375 56 49.78125 48.890625 \nQ 56.203125 41.796875 56.203125 29.59375 \nz\nM 47.21875 32.234375 \nQ 47.125 39.59375 43.09375 43.984375 \nQ 39.0625 48.390625 32.421875 48.390625 \nQ 24.90625 48.390625 20.390625 44.140625 \nQ 15.875 39.890625 15.1875 32.171875 \nz\n\" id=\"DejaVuSans-101\"/>\n       <path d=\"M 45.40625 46.390625 \nL 45.40625 75.984375 \nL 54.390625 75.984375 \nL 54.390625 0 \nL 45.40625 0 \nL 45.40625 8.203125 \nQ 42.578125 3.328125 38.25 0.953125 \nQ 33.9375 -1.421875 27.875 -1.421875 \nQ 17.96875 -1.421875 11.734375 6.484375 \nQ 5.515625 14.40625 5.515625 27.296875 \nQ 5.515625 40.1875 11.734375 48.09375 \nQ 17.96875 56 27.875 56 \nQ 33.9375 56 38.25 53.625 \nQ 42.578125 51.265625 45.40625 46.390625 \nz\nM 14.796875 27.296875 \nQ 14.796875 17.390625 18.875 11.75 \nQ 22.953125 6.109375 30.078125 6.109375 \nQ 37.203125 6.109375 41.296875 11.75 \nQ 45.40625 17.390625 45.40625 27.296875 \nQ 45.40625 37.203125 41.296875 42.84375 \nQ 37.203125 48.484375 30.078125 48.484375 \nQ 22.953125 48.484375 18.875 42.84375 \nQ 14.796875 37.203125 14.796875 27.296875 \nz\n\" id=\"DejaVuSans-100\"/>\n       <path d=\"M 9.421875 54.6875 \nL 18.40625 54.6875 \nL 18.40625 0 \nL 9.421875 0 \nz\nM 9.421875 75.984375 \nL 18.40625 75.984375 \nL 18.40625 64.59375 \nL 9.421875 64.59375 \nz\n\" id=\"DejaVuSans-105\"/>\n       <path d=\"M 48.78125 52.59375 \nL 48.78125 44.1875 \nQ 44.96875 46.296875 41.140625 47.34375 \nQ 37.3125 48.390625 33.40625 48.390625 \nQ 24.65625 48.390625 19.8125 42.84375 \nQ 14.984375 37.3125 14.984375 27.296875 \nQ 14.984375 17.28125 19.8125 11.734375 \nQ 24.65625 6.203125 33.40625 6.203125 \nQ 37.3125 6.203125 41.140625 7.25 \nQ 44.96875 8.296875 48.78125 10.40625 \nL 48.78125 2.09375 \nQ 45.015625 0.34375 40.984375 -0.53125 \nQ 36.96875 -1.421875 32.421875 -1.421875 \nQ 20.0625 -1.421875 12.78125 6.34375 \nQ 5.515625 14.109375 5.515625 27.296875 \nQ 5.515625 40.671875 12.859375 48.328125 \nQ 20.21875 56 33.015625 56 \nQ 37.15625 56 41.109375 55.140625 \nQ 45.0625 54.296875 48.78125 52.59375 \nz\n\" id=\"DejaVuSans-99\"/>\n       <path d=\"M 18.3125 70.21875 \nL 18.3125 54.6875 \nL 36.8125 54.6875 \nL 36.8125 47.703125 \nL 18.3125 47.703125 \nL 18.3125 18.015625 \nQ 18.3125 11.328125 20.140625 9.421875 \nQ 21.96875 7.515625 27.59375 7.515625 \nL 36.8125 7.515625 \nL 36.8125 0 \nL 27.59375 0 \nQ 17.1875 0 13.234375 3.875 \nQ 9.28125 7.765625 9.28125 18.015625 \nL 9.28125 47.703125 \nL 2.6875 47.703125 \nL 2.6875 54.6875 \nL 9.28125 54.6875 \nL 9.28125 70.21875 \nz\n\" id=\"DejaVuSans-116\"/>\n       <path d=\"M 30.609375 48.390625 \nQ 23.390625 48.390625 19.1875 42.75 \nQ 14.984375 37.109375 14.984375 27.296875 \nQ 14.984375 17.484375 19.15625 11.84375 \nQ 23.34375 6.203125 30.609375 6.203125 \nQ 37.796875 6.203125 41.984375 11.859375 \nQ 46.1875 17.53125 46.1875 27.296875 \nQ 46.1875 37.015625 41.984375 42.703125 \nQ 37.796875 48.390625 30.609375 48.390625 \nz\nM 30.609375 56 \nQ 42.328125 56 49.015625 48.375 \nQ 55.71875 40.765625 55.71875 27.296875 \nQ 55.71875 13.875 49.015625 6.21875 \nQ 42.328125 -1.421875 30.609375 -1.421875 \nQ 18.84375 -1.421875 12.171875 6.21875 \nQ 5.515625 13.875 5.515625 27.296875 \nQ 5.515625 40.765625 12.171875 48.375 \nQ 18.84375 56 30.609375 56 \nz\n\" id=\"DejaVuSans-111\"/>\n       <path d=\"M 54.890625 33.015625 \nL 54.890625 0 \nL 45.90625 0 \nL 45.90625 32.71875 \nQ 45.90625 40.484375 42.875 44.328125 \nQ 39.84375 48.1875 33.796875 48.1875 \nQ 26.515625 48.1875 22.3125 43.546875 \nQ 18.109375 38.921875 18.109375 30.90625 \nL 18.109375 0 \nL 9.078125 0 \nL 9.078125 54.6875 \nL 18.109375 54.6875 \nL 18.109375 46.1875 \nQ 21.34375 51.125 25.703125 53.5625 \nQ 30.078125 56 35.796875 56 \nQ 45.21875 56 50.046875 50.171875 \nQ 54.890625 44.34375 54.890625 33.015625 \nz\n\" id=\"DejaVuSans-110\"/>\n      </defs>\n      <use xlink:href=\"#DejaVuSans-80\"/>\n      <use x=\"58.552734\" xlink:href=\"#DejaVuSans-114\"/>\n      <use x=\"97.416016\" xlink:href=\"#DejaVuSans-101\"/>\n      <use x=\"158.939453\" xlink:href=\"#DejaVuSans-100\"/>\n      <use x=\"222.416016\" xlink:href=\"#DejaVuSans-105\"/>\n      <use x=\"250.199219\" xlink:href=\"#DejaVuSans-99\"/>\n      <use x=\"305.179688\" xlink:href=\"#DejaVuSans-116\"/>\n      <use x=\"344.388672\" xlink:href=\"#DejaVuSans-105\"/>\n      <use x=\"372.171875\" xlink:href=\"#DejaVuSans-111\"/>\n      <use x=\"433.353516\" xlink:href=\"#DejaVuSans-110\"/>\n     </g>\n    </g>\n    <g id=\"PathCollection_4\">\n     <g>\n      <use style=\"fill:#ff7f0e;stroke:#ff7f0e;\" x=\"63.845313\" xlink:href=\"#m998f7d15ba\" y=\"35.851562\"/>\n     </g>\n    </g>\n    <g id=\"text_16\">\n     <!-- Actual -->\n     <g transform=\"translate(81.845313 38.476562)scale(0.1 -0.1)\">\n      <defs>\n       <path d=\"M 34.1875 63.1875 \nL 20.796875 26.90625 \nL 47.609375 26.90625 \nz\nM 28.609375 72.90625 \nL 39.796875 72.90625 \nL 67.578125 0 \nL 57.328125 0 \nL 50.6875 18.703125 \nL 17.828125 18.703125 \nL 11.1875 0 \nL 0.78125 0 \nz\n\" id=\"DejaVuSans-65\"/>\n       <path d=\"M 8.5 21.578125 \nL 8.5 54.6875 \nL 17.484375 54.6875 \nL 17.484375 21.921875 \nQ 17.484375 14.15625 20.5 10.265625 \nQ 23.53125 6.390625 29.59375 6.390625 \nQ 36.859375 6.390625 41.078125 11.03125 \nQ 45.3125 15.671875 45.3125 23.6875 \nL 45.3125 54.6875 \nL 54.296875 54.6875 \nL 54.296875 0 \nL 45.3125 0 \nL 45.3125 8.40625 \nQ 42.046875 3.421875 37.71875 1 \nQ 33.40625 -1.421875 27.6875 -1.421875 \nQ 18.265625 -1.421875 13.375 4.4375 \nQ 8.5 10.296875 8.5 21.578125 \nz\nM 31.109375 56 \nz\n\" id=\"DejaVuSans-117\"/>\n       <path d=\"M 34.28125 27.484375 \nQ 23.390625 27.484375 19.1875 25 \nQ 14.984375 22.515625 14.984375 16.5 \nQ 14.984375 11.71875 18.140625 8.90625 \nQ 21.296875 6.109375 26.703125 6.109375 \nQ 34.1875 6.109375 38.703125 11.40625 \nQ 43.21875 16.703125 43.21875 25.484375 \nL 43.21875 27.484375 \nz\nM 52.203125 31.203125 \nL 52.203125 0 \nL 43.21875 0 \nL 43.21875 8.296875 \nQ 40.140625 3.328125 35.546875 0.953125 \nQ 30.953125 -1.421875 24.3125 -1.421875 \nQ 15.921875 -1.421875 10.953125 3.296875 \nQ 6 8.015625 6 15.921875 \nQ 6 25.140625 12.171875 29.828125 \nQ 18.359375 34.515625 30.609375 34.515625 \nL 43.21875 34.515625 \nL 43.21875 35.40625 \nQ 43.21875 41.609375 39.140625 45 \nQ 35.0625 48.390625 27.6875 48.390625 \nQ 23 48.390625 18.546875 47.265625 \nQ 14.109375 46.140625 10.015625 43.890625 \nL 10.015625 52.203125 \nQ 14.9375 54.109375 19.578125 55.046875 \nQ 24.21875 56 28.609375 56 \nQ 40.484375 56 46.34375 49.84375 \nQ 52.203125 43.703125 52.203125 31.203125 \nz\n\" id=\"DejaVuSans-97\"/>\n       <path d=\"M 9.421875 75.984375 \nL 18.40625 75.984375 \nL 18.40625 0 \nL 9.421875 0 \nz\n\" id=\"DejaVuSans-108\"/>\n      </defs>\n      <use xlink:href=\"#DejaVuSans-65\"/>\n      <use x=\"66.658203\" xlink:href=\"#DejaVuSans-99\"/>\n      <use x=\"121.638672\" xlink:href=\"#DejaVuSans-116\"/>\n      <use x=\"160.847656\" xlink:href=\"#DejaVuSans-117\"/>\n      <use x=\"224.226562\" xlink:href=\"#DejaVuSans-97\"/>\n      <use x=\"285.505859\" xlink:href=\"#DejaVuSans-108\"/>\n     </g>\n    </g>\n   </g>\n  </g>\n </g>\n <defs>\n  <clipPath id=\"pe7b0fd9092\">\n   <rect height=\"434.88\" width=\"669.6\" x=\"44.845313\" y=\"7.2\"/>\n  </clipPath>\n </defs>\n</svg>\n",
      "image/png": "[encoded data removed]"
     },
     "metadata": {
      "needs_background": "light"
     }
    }
   ],
   "source": [
    "import matplotlib.pyplot as plt\n",
    "fig = plt.figure(figsize=(12, 8))\n",
    "plt.scatter(df.index, df['Predicted_Premium'])\n",
    "plt.scatter(df.index, df['PRPL_Premium'])\n",
    "\n",
    "plt.legend(['Prediction', 'Actual'])"
   ]
  },
  {
   "cell_type": "code",
   "execution_count": null,
   "metadata": {},
   "outputs": [],
   "source": []
  }
 ]
}